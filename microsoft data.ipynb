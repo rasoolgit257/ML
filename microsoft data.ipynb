{
 "cells": [
  {
   "cell_type": "code",
   "execution_count": 36,
   "metadata": {
    "scrolled": true
   },
   "outputs": [
    {
     "name": "stdout",
     "output_type": "stream",
     "text": [
      "['RtpStateBitfield', 'AVProductStatesIdentifier', 'AVProductsEnabled', 'HasTpm', 'OrganizationIdentifier', 'OsBuild', 'IsProtected', 'IeVerIdentifier', 'Firewall', 'UacLuaenable', 'Census_ProcessorManufacturerIdentifier', 'Census_ProcessorModelIdentifier', 'Census_InternalPrimaryDisplayResolutionHorizontal', 'Census_InternalPrimaryDisplayResolutionVertical', 'Census_OSBuildNumber', 'Census_OSInstallLanguageIdentifier', 'Census_OSUILocaleIdentifier']\n",
      "confussion matrix =\n",
      " [[1580  893]\n",
      " [1032 1495]]\n",
      "f1_score = 0.6083418107833164\n"
     ]
    },
    {
     "data": {
      "text/plain": [
       "0.6632552820961037"
      ]
     },
     "execution_count": 36,
     "metadata": {},
     "output_type": "execute_result"
    }
   ],
   "source": [
    "import pandas as pd\n",
    "import warnings\n",
    "warnings.simplefilter('ignore')\n",
    "from sklearn.model_selection import train_test_split\n",
    "from sklearn.preprocessing import LabelEncoder,OneHotEncoder\n",
    "from sklearn.preprocessing import MinMaxScaler,StandardScaler\n",
    "import numpy as np\n",
    "from sklearn.linear_model import LogisticRegression\n",
    "from sklearn.metrics import confusion_matrix,f1_score,precision_score,accuracy_score\n",
    "from sklearn.metrics import roc_curve,auc\n",
    "import matplotlib.pyplot as plt\n",
    "\n",
    "micro=pd.read_csv('microsoft_20000.csv')\n",
    "micro.drop(columns=['MachineIdentifier'],axis=1,inplace=True)\n",
    "for col in micro.columns:\n",
    "    if micro[col].isnull().sum() > 10000:\n",
    "        micro.drop(col,axis=1,inplace=True)\n",
    "\n",
    "y=pd.DataFrame()\n",
    "y[\"output\"]=micro[\"HasDetections\"]\n",
    "micro.drop(\"HasDetections\",axis=1,inplace=True)\n",
    "\n",
    "cat_list=[]\n",
    "con_list=[]\n",
    "\n",
    "for col in micro.columns:\n",
    "    if micro[col].dtype == 'int64' or micro[col].dtype == 'float64':\n",
    "        con_list.append(col)\n",
    "    else:\n",
    "        cat_list.append(col)\n",
    "\n",
    "for col in micro[cat_list].columns:\n",
    "    micro[col].fillna(value=micro[col].mode()[0],inplace=True)\n",
    "    \n",
    "for col in micro[con_list].columns:\n",
    "    micro[col].fillna(value=micro[col].median(),inplace=True)\n",
    "\n",
    "from statsmodels.stats.outliers_influence import variance_inflation_factor\n",
    "\n",
    "\n",
    "vif = [[con_list[i],variance_inflation_factor(micro[con_list].values, i)] for i in range(micro[con_list].shape[1])]\n",
    "\n",
    "drop_col=[]\n",
    "for i in vif:\n",
    "    if i[1] > 20:\n",
    "        drop_col.append(i[0])\n",
    "        \n",
    "print(drop_col)\n",
    "\n",
    "micro.drop(drop_col,axis=1,inplace=True)\n",
    "    \n",
    "X_train,X_test,y_train,y_test=train_test_split(micro,y,test_size=0.25,random_state=30)\n",
    "\n",
    "\n",
    "le=LabelEncoder()\n",
    "for col in cat_list:\n",
    "    le.fit(X_train[col])\n",
    "    X_test[col] = X_test[col].map(lambda s: '<unknown>' if s not in le.classes_ else s)\n",
    "    le.classes_ = np.append(le.classes_, '<unknown>')\n",
    "    X_train[col] = le.transform(X_train[col])\n",
    "    X_test[col] = le.transform(X_test[col])\n",
    "    \n",
    "\n",
    "MScaling=MinMaxScaler()\n",
    "for col in micro.columns:\n",
    "    X_train[col]=MScaling.fit_transform(np.array(X_train[col]).reshape(-1,1))\n",
    "    X_test[col]=MScaling.transform(np.array(X_test[col]).reshape(-1,1))\n",
    "\n",
    "\"\"\"SScaling=StandardScaler()\n",
    "for col in micro_dtypes['int or float']:\n",
    "    X_train[col]=SScaling.fit_transform(np.array(X_train[col]).reshape(-1,1))\n",
    "    X_test[col]=SScaling.transform(np.array(X_test[col]).reshape(-1,1))\"\"\"\n",
    "\n",
    "#LogisticRegression model \n",
    "\n",
    "log_reg=LogisticRegression()\n",
    "log_reg.fit(X_train,y_train)\n",
    "log_reg.predict(X_test)\n",
    "\n",
    "\n",
    "print(f'confussion matrix =\\n {confusion_matrix(y_test,log_reg.predict(X_test))}')\n",
    "\n",
    "print(f'f1_score = {f1_score(y_test,log_reg.predict(X_test))}')\n",
    "\n",
    "y_pre_pro=log_reg.predict_proba(X_test)[::,1]\n",
    "\n",
    "fpr,tpr,threshold=roc_curve(y_test,y_pre_pro)\n",
    "auc_score=auc(fpr,tpr)\n",
    "auc_score"
   ]
  },
  {
   "cell_type": "code",
   "execution_count": 37,
   "metadata": {},
   "outputs": [
    {
     "name": "stdout",
     "output_type": "stream",
     "text": [
      "confussion matrix =\n",
      " [[1221 1252]\n",
      " [ 706 1821]]\n",
      "Decision_class.score= 0.6099073271551437\n",
      "f1_score = 0.6503571428571429\n"
     ]
    },
    {
     "data": {
      "text/plain": [
       "0.6436793187557396"
      ]
     },
     "execution_count": 37,
     "metadata": {},
     "output_type": "execute_result"
    }
   ],
   "source": [
    "#decision model\n",
    "\n",
    "from sklearn.tree import DecisionTreeClassifier\n",
    "\n",
    "Decision_class=DecisionTreeClassifier(max_depth=8,min_samples_split= 8,min_samples_leaf = 8,max_leaf_nodes= 5,criterion='gini')\n",
    "Decision_class.fit(X_train,y_train)\n",
    "Decision_class.predict(X_test)\n",
    "\n",
    "\n",
    "\n",
    "print(f'confussion matrix =\\n {confusion_matrix(y_test,Decision_class.predict(X_test))}')\n",
    "\n",
    "\n",
    "print(f'Decision_class.score= {Decision_class.score(X_train,y_train)}')\n",
    "\n",
    "\n",
    "print(f'f1_score = {f1_score(y_test,Decision_class.predict(X_test))}')\n",
    "\n",
    "y_decesion_pro=pd.DataFrame(Decision_class.predict_proba(X_test)[::1])\n",
    "\n",
    "fpr,tpr,threshold=roc_curve(y_test,y_decesion_pro[1])\n",
    "auc_score_decesion=auc(fpr,tpr)\n",
    "auc_score_decesion"
   ]
  },
  {
   "cell_type": "code",
   "execution_count": 7,
   "metadata": {},
   "outputs": [
    {
     "data": {
      "text/plain": [
       "{'min_samples_split': 8,\n",
       " 'min_samples_leaf': 8,\n",
       " 'max_leaf_nodes': 8,\n",
       " 'max_depth': 5,\n",
       " 'criterion': 'gini'}"
      ]
     },
     "execution_count": 7,
     "metadata": {},
     "output_type": "execute_result"
    }
   ],
   "source": [
    "from sklearn.model_selection import RandomizedSearchCV\n",
    "\n",
    "#parameters tuning for DecisionTreeClassifier\n",
    "\n",
    "Param_dict_RSC = {\n",
    "'max_depth':[4,5,6,7,8,9,10],\n",
    "'min_samples_split':[2,3,4,5,6,7,8,9,10],\n",
    "'min_samples_leaf':[2,3,4,5,6,7,8,9,10],\n",
    "'max_leaf_nodes':[4,5,6,7,8,9,10],\n",
    "\"criterion\": [\"gini\", \"entropy\"]}\n",
    "\n",
    "rcv_DecisionTree = RandomizedSearchCV(Decision_class,Param_dict_RSC,cv=5,n_iter=15)\n",
    "rcv_DecisionTree.fit(X_train,y_train)\n",
    "rcv_DecisionTree.best_params_"
   ]
  },
  {
   "cell_type": "code",
   "execution_count": 38,
   "metadata": {},
   "outputs": [
    {
     "name": "stdout",
     "output_type": "stream",
     "text": [
      "confussion matrix =\n",
      " [[1492  981]\n",
      " [ 915 1612]]\n",
      "RandomForest.score= 0.6232415494366291\n",
      "f1_score = 0.6296874999999998\n",
      "precision_score = 0.6216737369841882\n"
     ]
    }
   ],
   "source": [
    "from sklearn.ensemble import RandomForestClassifier\n",
    "\n",
    "RandomForest=RandomForestClassifier(n_estimators=70,min_samples_split=8,min_samples_leaf=5,max_leaf_nodes=8,max_features=3,max_depth=5)\n",
    "\n",
    "RandomForest.fit(X_train,y_train)\n",
    "RandomForest.predict(X_test)\n",
    "\n",
    "\n",
    "print(f'confussion matrix =\\n {confusion_matrix(y_test,RandomForest.predict(X_test))}')\n",
    "print(f'RandomForest.score= {RandomForest.score(X_train,y_train)}')\n",
    "print(f'f1_score = {f1_score(y_test,RandomForest.predict(X_test))}')\n",
    "print(f'precision_score = {precision_score(y_test,RandomForest.predict(X_test))}')\n"
   ]
  },
  {
   "cell_type": "code",
   "execution_count": 26,
   "metadata": {},
   "outputs": [
    {
     "data": {
      "text/plain": [
       "{'n_estimators': 80,\n",
       " 'min_samples_split': 6,\n",
       " 'min_samples_leaf': 7,\n",
       " 'max_leaf_nodes': 8,\n",
       " 'max_features': 4,\n",
       " 'max_depth': 8}"
      ]
     },
     "execution_count": 26,
     "metadata": {},
     "output_type": "execute_result"
    }
   ],
   "source": [
    "#parameters tuning for RandomForestClassifier\n",
    "\n",
    "parameters_Random={'n_estimators':[70,80,100],\n",
    "                   'max_depth':[5,6,7,8], \n",
    "                   \"min_samples_split\":[2,3,4,5,6,7,8,9,10], \n",
    "                   'min_samples_leaf':[2,3,4,5,6,7,8,9,10], \n",
    "                   'max_features':['auto','log2',3,4,5], \n",
    "                   'max_leaf_nodes':[4,5,6,7,8,9,10]}\n",
    "\n",
    "rcv_RandomForestClassifier=RandomizedSearchCV(RandomForest,parameters_Random,cv=5,n_iter=15)\n",
    "rcv_RandomForestClassifier.fit(X_train,y_train)\n",
    "rcv_RandomForestClassifier.best_params_"
   ]
  },
  {
   "cell_type": "code",
   "execution_count": 40,
   "metadata": {},
   "outputs": [
    {
     "name": "stdout",
     "output_type": "stream",
     "text": [
      "confussion matrix =\n",
      " [[1615  858]\n",
      " [1038 1489]]\n",
      "RandomForest.score= 0.6408427228481899\n",
      "f1_score = 0.6109971276159213\n",
      "precision_score = 0.6344269279931828\n"
     ]
    },
    {
     "data": {
      "text/plain": [
       "0.673612650179517"
      ]
     },
     "execution_count": 40,
     "metadata": {},
     "output_type": "execute_result"
    }
   ],
   "source": [
    "from sklearn.ensemble import GradientBoostingClassifier\n",
    "\n",
    "GBC=GradientBoostingClassifier(learning_rate=0.1,min_samples_split=0.1,\n",
    "                                max_depth=6,min_samples_leaf=0.1,max_features=10)\n",
    "\n",
    "GBC.fit(X_train,y_train)\n",
    "GBC.predict(X_test)\n",
    "y_pred=GBC.predict_proba(X_test)[::,1]\n",
    "\n",
    "print(f'confussion matrix =\\n {confusion_matrix(y_test,GBC.predict(X_test))}')\n",
    "print(f'RandomForest.score= {GBC.score(X_train,y_train)}')\n",
    "print(f'f1_score = {f1_score(y_test,GBC.predict(X_test))}')\n",
    "print(f'precision_score = {precision_score(y_test,GBC.predict(X_test))}')\n",
    "\n",
    "from sklearn.metrics import roc_curve, auc\n",
    "\n",
    "false_positive_rate, true_positive_rate, thresholds = roc_curve(y_test, y_pred)\n",
    "roc_auc = auc(false_positive_rate, true_positive_rate)\n",
    "roc_auc\n"
   ]
  }
 ],
 "metadata": {
  "kernelspec": {
   "display_name": "Python 3",
   "language": "python",
   "name": "python3"
  },
  "language_info": {
   "codemirror_mode": {
    "name": "ipython",
    "version": 3
   },
   "file_extension": ".py",
   "mimetype": "text/x-python",
   "name": "python",
   "nbconvert_exporter": "python",
   "pygments_lexer": "ipython3",
   "version": "3.7.4"
  }
 },
 "nbformat": 4,
 "nbformat_minor": 2
}
